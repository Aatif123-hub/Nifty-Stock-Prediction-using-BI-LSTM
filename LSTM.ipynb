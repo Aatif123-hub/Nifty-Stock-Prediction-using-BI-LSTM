{
 "cells": [
  {
   "cell_type": "markdown",
   "metadata": {},
   "source": [
    "Loading Dataset and Removing unnecessary columns\n"
   ]
  },
  {
   "cell_type": "code",
   "execution_count": 86,
   "metadata": {},
   "outputs": [
    {
     "data": {
      "text/html": [
       "<div>\n",
       "<style scoped>\n",
       "    .dataframe tbody tr th:only-of-type {\n",
       "        vertical-align: middle;\n",
       "    }\n",
       "\n",
       "    .dataframe tbody tr th {\n",
       "        vertical-align: top;\n",
       "    }\n",
       "\n",
       "    .dataframe thead th {\n",
       "        text-align: right;\n",
       "    }\n",
       "</style>\n",
       "<table border=\"1\" class=\"dataframe\">\n",
       "  <thead>\n",
       "    <tr style=\"text-align: right;\">\n",
       "      <th></th>\n",
       "      <th>Date</th>\n",
       "      <th>Open</th>\n",
       "      <th>High</th>\n",
       "      <th>Low</th>\n",
       "      <th>Close</th>\n",
       "      <th>Shares Traded</th>\n",
       "      <th>Turnover (₹ Cr)</th>\n",
       "    </tr>\n",
       "  </thead>\n",
       "  <tbody>\n",
       "    <tr>\n",
       "      <th>0</th>\n",
       "      <td>23-OCT-2023</td>\n",
       "      <td>19521.60</td>\n",
       "      <td>19556.85</td>\n",
       "      <td>19257.85</td>\n",
       "      <td>19281.75</td>\n",
       "      <td>176044288.0</td>\n",
       "      <td>16212.90</td>\n",
       "    </tr>\n",
       "    <tr>\n",
       "      <th>1</th>\n",
       "      <td>25-OCT-2023</td>\n",
       "      <td>19286.45</td>\n",
       "      <td>19347.30</td>\n",
       "      <td>19074.15</td>\n",
       "      <td>19122.15</td>\n",
       "      <td>225291741.0</td>\n",
       "      <td>19818.32</td>\n",
       "    </tr>\n",
       "    <tr>\n",
       "      <th>2</th>\n",
       "      <td>26-OCT-2023</td>\n",
       "      <td>19027.25</td>\n",
       "      <td>19041.70</td>\n",
       "      <td>18837.85</td>\n",
       "      <td>18857.25</td>\n",
       "      <td>300356469.0</td>\n",
       "      <td>28939.64</td>\n",
       "    </tr>\n",
       "    <tr>\n",
       "      <th>3</th>\n",
       "      <td>27-OCT-2023</td>\n",
       "      <td>18928.75</td>\n",
       "      <td>19076.15</td>\n",
       "      <td>18926.65</td>\n",
       "      <td>19047.25</td>\n",
       "      <td>205201044.0</td>\n",
       "      <td>19947.48</td>\n",
       "    </tr>\n",
       "    <tr>\n",
       "      <th>4</th>\n",
       "      <td>30-OCT-2023</td>\n",
       "      <td>19053.40</td>\n",
       "      <td>19158.50</td>\n",
       "      <td>18940.00</td>\n",
       "      <td>19140.90</td>\n",
       "      <td>180132492.0</td>\n",
       "      <td>17095.73</td>\n",
       "    </tr>\n",
       "  </tbody>\n",
       "</table>\n",
       "</div>"
      ],
      "text/plain": [
       "         Date      Open      High       Low     Close   Shares Traded   \\\n",
       "0  23-OCT-2023  19521.60  19556.85  19257.85  19281.75     176044288.0   \n",
       "1  25-OCT-2023  19286.45  19347.30  19074.15  19122.15     225291741.0   \n",
       "2  26-OCT-2023  19027.25  19041.70  18837.85  18857.25     300356469.0   \n",
       "3  27-OCT-2023  18928.75  19076.15  18926.65  19047.25     205201044.0   \n",
       "4  30-OCT-2023  19053.40  19158.50  18940.00  19140.90     180132492.0   \n",
       "\n",
       "   Turnover (₹ Cr)  \n",
       "0         16212.90  \n",
       "1         19818.32  \n",
       "2         28939.64  \n",
       "3         19947.48  \n",
       "4         17095.73  "
      ]
     },
     "execution_count": 86,
     "metadata": {},
     "output_type": "execute_result"
    }
   ],
   "source": [
    "import pandas as pd\n",
    "\n",
    "data = pd.read_csv('/Users/aatif/Stock_Prediction/Nifty 50 (2023-2024).csv')\n",
    "data.head(5)"
   ]
  },
  {
   "cell_type": "code",
   "execution_count": 87,
   "metadata": {},
   "outputs": [
    {
     "data": {
      "text/plain": [
       "(248, 7)"
      ]
     },
     "execution_count": 87,
     "metadata": {},
     "output_type": "execute_result"
    }
   ],
   "source": [
    "data.shape"
   ]
  },
  {
   "cell_type": "code",
   "execution_count": 88,
   "metadata": {},
   "outputs": [
    {
     "data": {
      "text/plain": [
       "Index(['Date ', 'Open ', 'High ', 'Low ', 'Close ', 'Shares Traded ',\n",
       "       'Turnover (₹ Cr)'],\n",
       "      dtype='object')"
      ]
     },
     "execution_count": 88,
     "metadata": {},
     "output_type": "execute_result"
    }
   ],
   "source": [
    "data.columns"
   ]
  },
  {
   "cell_type": "code",
   "execution_count": 89,
   "metadata": {},
   "outputs": [],
   "source": [
    "data = data.drop(columns=['Shares Traded ','Turnover (₹ Cr)'],axis=1)"
   ]
  },
  {
   "cell_type": "code",
   "execution_count": 90,
   "metadata": {},
   "outputs": [
    {
     "data": {
      "text/html": [
       "<div>\n",
       "<style scoped>\n",
       "    .dataframe tbody tr th:only-of-type {\n",
       "        vertical-align: middle;\n",
       "    }\n",
       "\n",
       "    .dataframe tbody tr th {\n",
       "        vertical-align: top;\n",
       "    }\n",
       "\n",
       "    .dataframe thead th {\n",
       "        text-align: right;\n",
       "    }\n",
       "</style>\n",
       "<table border=\"1\" class=\"dataframe\">\n",
       "  <thead>\n",
       "    <tr style=\"text-align: right;\">\n",
       "      <th></th>\n",
       "      <th>Date</th>\n",
       "      <th>Open</th>\n",
       "      <th>High</th>\n",
       "      <th>Low</th>\n",
       "      <th>Close</th>\n",
       "    </tr>\n",
       "  </thead>\n",
       "  <tbody>\n",
       "    <tr>\n",
       "      <th>0</th>\n",
       "      <td>23-OCT-2023</td>\n",
       "      <td>19521.60</td>\n",
       "      <td>19556.85</td>\n",
       "      <td>19257.85</td>\n",
       "      <td>19281.75</td>\n",
       "    </tr>\n",
       "    <tr>\n",
       "      <th>1</th>\n",
       "      <td>25-OCT-2023</td>\n",
       "      <td>19286.45</td>\n",
       "      <td>19347.30</td>\n",
       "      <td>19074.15</td>\n",
       "      <td>19122.15</td>\n",
       "    </tr>\n",
       "    <tr>\n",
       "      <th>2</th>\n",
       "      <td>26-OCT-2023</td>\n",
       "      <td>19027.25</td>\n",
       "      <td>19041.70</td>\n",
       "      <td>18837.85</td>\n",
       "      <td>18857.25</td>\n",
       "    </tr>\n",
       "    <tr>\n",
       "      <th>3</th>\n",
       "      <td>27-OCT-2023</td>\n",
       "      <td>18928.75</td>\n",
       "      <td>19076.15</td>\n",
       "      <td>18926.65</td>\n",
       "      <td>19047.25</td>\n",
       "    </tr>\n",
       "    <tr>\n",
       "      <th>4</th>\n",
       "      <td>30-OCT-2023</td>\n",
       "      <td>19053.40</td>\n",
       "      <td>19158.50</td>\n",
       "      <td>18940.00</td>\n",
       "      <td>19140.90</td>\n",
       "    </tr>\n",
       "  </tbody>\n",
       "</table>\n",
       "</div>"
      ],
      "text/plain": [
       "         Date      Open      High       Low     Close \n",
       "0  23-OCT-2023  19521.60  19556.85  19257.85  19281.75\n",
       "1  25-OCT-2023  19286.45  19347.30  19074.15  19122.15\n",
       "2  26-OCT-2023  19027.25  19041.70  18837.85  18857.25\n",
       "3  27-OCT-2023  18928.75  19076.15  18926.65  19047.25\n",
       "4  30-OCT-2023  19053.40  19158.50  18940.00  19140.90"
      ]
     },
     "execution_count": 90,
     "metadata": {},
     "output_type": "execute_result"
    }
   ],
   "source": [
    "data.head(5)"
   ]
  },
  {
   "cell_type": "code",
   "execution_count": 91,
   "metadata": {},
   "outputs": [
    {
     "name": "stderr",
     "output_type": "stream",
     "text": [
      "/var/folders/b8/h9d4pwdn4vz_f4wbfkf9gpg40000gn/T/ipykernel_45522/2419757259.py:1: UserWarning: Could not infer format, so each element will be parsed individually, falling back to `dateutil`. To ensure parsing is consistent and as-expected, please specify a format.\n",
      "  data['Date '] = pd.to_datetime(data['Date '])\n"
     ]
    }
   ],
   "source": [
    "data['Date '] = pd.to_datetime(data['Date '])"
   ]
  },
  {
   "cell_type": "code",
   "execution_count": 92,
   "metadata": {},
   "outputs": [
    {
     "data": {
      "text/html": [
       "<div>\n",
       "<style scoped>\n",
       "    .dataframe tbody tr th:only-of-type {\n",
       "        vertical-align: middle;\n",
       "    }\n",
       "\n",
       "    .dataframe tbody tr th {\n",
       "        vertical-align: top;\n",
       "    }\n",
       "\n",
       "    .dataframe thead th {\n",
       "        text-align: right;\n",
       "    }\n",
       "</style>\n",
       "<table border=\"1\" class=\"dataframe\">\n",
       "  <thead>\n",
       "    <tr style=\"text-align: right;\">\n",
       "      <th></th>\n",
       "      <th>Date</th>\n",
       "      <th>Open</th>\n",
       "      <th>High</th>\n",
       "      <th>Low</th>\n",
       "      <th>Close</th>\n",
       "    </tr>\n",
       "  </thead>\n",
       "  <tbody>\n",
       "    <tr>\n",
       "      <th>0</th>\n",
       "      <td>2023-10-23</td>\n",
       "      <td>19521.60</td>\n",
       "      <td>19556.85</td>\n",
       "      <td>19257.85</td>\n",
       "      <td>19281.75</td>\n",
       "    </tr>\n",
       "    <tr>\n",
       "      <th>1</th>\n",
       "      <td>2023-10-25</td>\n",
       "      <td>19286.45</td>\n",
       "      <td>19347.30</td>\n",
       "      <td>19074.15</td>\n",
       "      <td>19122.15</td>\n",
       "    </tr>\n",
       "    <tr>\n",
       "      <th>2</th>\n",
       "      <td>2023-10-26</td>\n",
       "      <td>19027.25</td>\n",
       "      <td>19041.70</td>\n",
       "      <td>18837.85</td>\n",
       "      <td>18857.25</td>\n",
       "    </tr>\n",
       "    <tr>\n",
       "      <th>3</th>\n",
       "      <td>2023-10-27</td>\n",
       "      <td>18928.75</td>\n",
       "      <td>19076.15</td>\n",
       "      <td>18926.65</td>\n",
       "      <td>19047.25</td>\n",
       "    </tr>\n",
       "    <tr>\n",
       "      <th>4</th>\n",
       "      <td>2023-10-30</td>\n",
       "      <td>19053.40</td>\n",
       "      <td>19158.50</td>\n",
       "      <td>18940.00</td>\n",
       "      <td>19140.90</td>\n",
       "    </tr>\n",
       "  </tbody>\n",
       "</table>\n",
       "</div>"
      ],
      "text/plain": [
       "       Date      Open      High       Low     Close \n",
       "0 2023-10-23  19521.60  19556.85  19257.85  19281.75\n",
       "1 2023-10-25  19286.45  19347.30  19074.15  19122.15\n",
       "2 2023-10-26  19027.25  19041.70  18837.85  18857.25\n",
       "3 2023-10-27  18928.75  19076.15  18926.65  19047.25\n",
       "4 2023-10-30  19053.40  19158.50  18940.00  19140.90"
      ]
     },
     "execution_count": 92,
     "metadata": {},
     "output_type": "execute_result"
    }
   ],
   "source": [
    "data.head(5)"
   ]
  },
  {
   "cell_type": "code",
   "execution_count": 93,
   "metadata": {},
   "outputs": [],
   "source": [
    "data = data.reset_index()['Close ']"
   ]
  },
  {
   "cell_type": "code",
   "execution_count": 95,
   "metadata": {},
   "outputs": [
    {
     "data": {
      "text/plain": [
       "0      19281.75\n",
       "1      19122.15\n",
       "2      18857.25\n",
       "3      19047.25\n",
       "4      19140.90\n",
       "         ...   \n",
       "243    25057.35\n",
       "244    24971.30\n",
       "245    24749.85\n",
       "246    24854.05\n",
       "247    24781.10\n",
       "Name: Close , Length: 248, dtype: float64"
      ]
     },
     "execution_count": 95,
     "metadata": {},
     "output_type": "execute_result"
    }
   ],
   "source": [
    "data"
   ]
  },
  {
   "cell_type": "code",
   "execution_count": 96,
   "metadata": {},
   "outputs": [
    {
     "data": {
      "text/plain": [
       "Text(0.5, 1.0, 'Closing price of Nifty 50 from Ooct 2023 - Oct 2024')"
      ]
     },
     "execution_count": 96,
     "metadata": {},
     "output_type": "execute_result"
    },
    {
     "data": {
      "image/png": "[encoded data removed]",
      "text/plain": [
       "<Figure size 640x480 with 1 Axes>"
      ]
     },
     "metadata": {},
     "output_type": "display_data"
    }
   ],
   "source": [
    "import matplotlib.pyplot as plt\n",
    "plt.plot(data)\n",
    "plt.title(\"Closing price of Nifty 50 from Ooct 2023 - Oct 2024\")"
   ]
  },
  {
   "cell_type": "code",
   "execution_count": 97,
   "metadata": {},
   "outputs": [],
   "source": [
    "import numpy as np"
   ]
  },
  {
   "cell_type": "code",
   "execution_count": 98,
   "metadata": {},
   "outputs": [],
   "source": [
    "from sklearn.preprocessing import MinMaxScaler\n",
    "scaler = MinMaxScaler(feature_range=(0,1))\n",
    "data = scaler.fit_transform(np.array(data).reshape(-1,1))\n"
   ]
  },
  {
   "cell_type": "code",
   "execution_count": 99,
   "metadata": {},
   "outputs": [
    {
     "data": {
      "text/plain": [
       "array([[0.05768604],\n",
       "       [0.03599772],\n",
       "       [0.        ],\n",
       "       [0.02581943],\n",
       "       [0.03854569],\n",
       "       [0.03021552],\n",
       "       [0.01792412],\n",
       "       [0.03750612],\n",
       "       [0.05073517],\n",
       "       [0.07535196],\n",
       "       [0.07466571],\n",
       "       [0.07966652],\n",
       "       [0.07311654],\n",
       "       [0.07720009],\n",
       "       [0.09081644],\n",
       "       [0.07967332],\n",
       "       [0.11118661],\n",
       "       [0.12338289],\n",
       "       [0.11884411],\n",
       "       [0.1137074 ],\n",
       "       [0.12585612],\n",
       "       [0.12972224],\n",
       "       [0.1283837 ],\n",
       "       [0.12739169],\n",
       "       [0.14030141],\n",
       "       [0.16841741],\n",
       "       [0.17338425],\n",
       "       [0.19169566],\n",
       "       [0.2486207 ],\n",
       "       [0.27149128],\n",
       "       [0.28271593],\n",
       "       [0.27774909],\n",
       "       [0.2870237 ],\n",
       "       [0.2907879 ],\n",
       "       [0.27846252],\n",
       "       [0.28117356],\n",
       "       [0.3160094 ],\n",
       "       [0.35323694],\n",
       "       [0.34807306],\n",
       "       [0.35275453],\n",
       "       [0.31158613],\n",
       "       [0.32584117],\n",
       "       [0.33866255],\n",
       "       [0.3511578 ],\n",
       "       [0.38015709],\n",
       "       [0.39700087],\n",
       "       [0.39057319],\n",
       "       [0.39200005],\n",
       "       [0.38165869],\n",
       "       [0.36148557],\n",
       "       [0.38068027],\n",
       "       [0.38777382],\n",
       "       [0.36089444],\n",
       "       [0.36522259],\n",
       "       [0.37525819],\n",
       "       [0.37913111],\n",
       "       [0.41274393],\n",
       "       [0.44031636],\n",
       "       [0.43146301],\n",
       "       [0.36890526],\n",
       "       [0.35399793],\n",
       "       [0.37576099],\n",
       "       [0.36888487],\n",
       "       [0.32363293],\n",
       "       [0.35287003],\n",
       "       [0.33909741],\n",
       "       [0.39141572],\n",
       "       [0.36213105],\n",
       "       [0.38979861],\n",
       "       [0.38595967],\n",
       "       [0.40720634],\n",
       "       [0.39604963],\n",
       "       [0.41747975],\n",
       "       [0.41762923],\n",
       "       [0.38874545],\n",
       "       [0.39751726],\n",
       "       [0.37489808],\n",
       "       [0.39218351],\n",
       "       [0.40533783],\n",
       "       [0.41494537],\n",
       "       [0.4326045 ],\n",
       "       [0.44368647],\n",
       "       [0.45383758],\n",
       "       [0.43455455],\n",
       "       [0.45662336],\n",
       "       [0.45597788],\n",
       "       [0.44365929],\n",
       "       [0.45402783],\n",
       "       [0.4204354 ],\n",
       "       [0.42473637],\n",
       "       [0.47310703],\n",
       "       [0.47849514],\n",
       "       [0.48219139],\n",
       "       [0.47549193],\n",
       "       [0.49149318],\n",
       "       [0.49414307],\n",
       "       [0.47227809],\n",
       "       [0.47269256],\n",
       "       [0.42676116],\n",
       "       [0.44700223],\n",
       "       [0.43024678],\n",
       "       [0.43464288],\n",
       "       [0.40226667],\n",
       "       [0.40520873],\n",
       "       [0.42869761],\n",
       "       [0.44022123],\n",
       "       [0.4277124 ],\n",
       "       [0.44387672],\n",
       "       [0.47149671],\n",
       "       [0.48985568],\n",
       "       [0.48867343],\n",
       "       [0.48613904],\n",
       "       [0.49701038],\n",
       "       [0.49688128],\n",
       "       [0.51761836],\n",
       "       [0.51441811],\n",
       "       [0.52950889],\n",
       "       [0.49765587],\n",
       "       [0.4641042 ],\n",
       "       [0.44717209],\n",
       "       [0.42650976],\n",
       "       [0.44704979],\n",
       "       [0.47278768],\n",
       "       [0.47708186],\n",
       "       [0.48175654],\n",
       "       [0.50457955],\n",
       "       [0.48414144],\n",
       "       [0.51450644],\n",
       "       [0.50926782],\n",
       "       [0.51515872],\n",
       "       [0.49173778],\n",
       "       [0.48723297],\n",
       "       [0.46818095],\n",
       "       [0.46818095],\n",
       "       [0.42129831],\n",
       "       [0.43457493],\n",
       "       [0.44121324],\n",
       "       [0.45667772],\n",
       "       [0.45432679],\n",
       "       [0.48195358],\n",
       "       [0.49041284],\n",
       "       [0.49529135],\n",
       "       [0.49896722],\n",
       "       [0.50830978],\n",
       "       [0.55856933],\n",
       "       [0.55713567],\n",
       "       [0.55378594],\n",
       "       [0.54776594],\n",
       "       [0.5228366 ],\n",
       "       [0.4934772 ],\n",
       "       [0.49919144],\n",
       "       [0.59882725],\n",
       "       [0.41137821],\n",
       "       [0.51137414],\n",
       "       [0.53869517],\n",
       "       [0.60239441],\n",
       "       [0.59818856],\n",
       "       [0.59895635],\n",
       "       [0.60685166],\n",
       "       [0.61717264],\n",
       "       [0.62623661],\n",
       "       [0.63877942],\n",
       "       [0.63308556],\n",
       "       [0.64001604],\n",
       "       [0.63106077],\n",
       "       [0.63605479],\n",
       "       [0.66098413],\n",
       "       [0.68102816],\n",
       "       [0.70490433],\n",
       "       [0.7002976 ],\n",
       "       [0.71814698],\n",
       "       [0.71568734],\n",
       "       [0.73779013],\n",
       "       [0.73991683],\n",
       "       [0.74286568],\n",
       "       [0.74241724],\n",
       "       [0.75772544],\n",
       "       [0.74294722],\n",
       "       [0.74179214],\n",
       "       [0.76709518],\n",
       "       [0.77858482],\n",
       "       [0.78215878],\n",
       "       [0.80768604],\n",
       "       [0.77100207],\n",
       "       [0.76806001],\n",
       "       [0.76395608],\n",
       "       [0.75504838],\n",
       "       [0.75404278],\n",
       "       [0.81230635],\n",
       "       [0.81247622],\n",
       "       [0.81535712],\n",
       "       [0.82811056],\n",
       "       [0.83623009],\n",
       "       [0.79638664],\n",
       "       [0.70641273],\n",
       "       [0.69784476],\n",
       "       [0.73928494],\n",
       "       [0.71475648],\n",
       "       [0.74879736],\n",
       "       [0.74601158],\n",
       "       [0.7177461 ],\n",
       "       [0.71839159],\n",
       "       [0.77239496],\n",
       "       [0.77667554],\n",
       "       [0.79382508],\n",
       "       [0.80352095],\n",
       "       [0.80913328],\n",
       "       [0.81071642],\n",
       "       [0.83618932],\n",
       "       [0.83716095],\n",
       "       [0.8418628 ],\n",
       "       [0.85539762],\n",
       "       [0.86680573],\n",
       "       [0.87262189],\n",
       "       [0.87277817],\n",
       "       [0.86175056],\n",
       "       [0.85446676],\n",
       "       [0.81465728],\n",
       "       [0.82610616],\n",
       "       [0.84033402],\n",
       "       [0.8236669 ],\n",
       "       [0.88759716],\n",
       "       [0.88319427],\n",
       "       [0.88689732],\n",
       "       [0.89162635],\n",
       "       [0.88605479],\n",
       "       [0.89125265],\n",
       "       [0.94223243],\n",
       "       [0.96235799],\n",
       "       [0.96254145],\n",
       "       [0.97120454],\n",
       "       [1.        ],\n",
       "       [0.99495842],\n",
       "       [0.94493667],\n",
       "       [0.94304098],\n",
       "       [0.86873539],\n",
       "       [0.83673289],\n",
       "       [0.80699299],\n",
       "       [0.83653585],\n",
       "       [0.83229603],\n",
       "       [0.83453824],\n",
       "       [0.82989074],\n",
       "       [0.85213622],\n",
       "       [0.84254226],\n",
       "       [0.83084878],\n",
       "       [0.80075556],\n",
       "       [0.81491548],\n",
       "       [0.80500217]])"
      ]
     },
     "execution_count": 99,
     "metadata": {},
     "output_type": "execute_result"
    }
   ],
   "source": [
    "data"
   ]
  },
  {
   "cell_type": "code",
   "execution_count": 143,
   "metadata": {},
   "outputs": [],
   "source": [
    "training_size=int(len(data)*0.65)\n",
    "test_size=len(data)-training_size\n",
    "train_data,test_data=data[0:training_size,:],data[training_size:len(data),:1]"
   ]
  },
  {
   "cell_type": "code",
   "execution_count": 144,
   "metadata": {},
   "outputs": [],
   "source": [
    "train_data = data[:training_size]\n",
    "test_data = data[training_size:]"
   ]
  },
  {
   "cell_type": "code",
   "execution_count": 145,
   "metadata": {},
   "outputs": [
    {
     "data": {
      "text/plain": [
       "((161, 1), (87, 1))"
      ]
     },
     "execution_count": 145,
     "metadata": {},
     "output_type": "execute_result"
    }
   ],
   "source": [
    "train_data.shape,test_data.shape"
   ]
  },
  {
   "cell_type": "code",
   "execution_count": 146,
   "metadata": {},
   "outputs": [],
   "source": [
    "from tensorflow.keras.models import Sequential\n",
    "from tensorflow.keras.layers import Dense,LSTM,Bidirectional"
   ]
  },
  {
   "cell_type": "code",
   "execution_count": 147,
   "metadata": {},
   "outputs": [],
   "source": [
    "def create_matrix(dataset,time_step=1):\n",
    "    datax,datay=[],[]\n",
    "    for i in range(len(dataset)-time_step-1):\n",
    "        datax.append(dataset[i:(i+time_step),0])\n",
    "        datay.append(dataset[i+time_step,0])\n",
    "    return np.array(datax),np.array(datay)"
   ]
  },
  {
   "cell_type": "code",
   "execution_count": 161,
   "metadata": {},
   "outputs": [],
   "source": [
    "time_step=1\n",
    "x_train,y_train = create_matrix(train_data,time_step)\n",
    "x_test,y_test = create_matrix(test_data,time_step)"
   ]
  },
  {
   "cell_type": "code",
   "execution_count": 162,
   "metadata": {},
   "outputs": [
    {
     "data": {
      "text/plain": [
       "((159, 1), (159,))"
      ]
     },
     "execution_count": 162,
     "metadata": {},
     "output_type": "execute_result"
    }
   ],
   "source": [
    "x_train.shape,y_train.shape"
   ]
  },
  {
   "cell_type": "code",
   "execution_count": 163,
   "metadata": {},
   "outputs": [
    {
     "data": {
      "text/plain": [
       "((85, 1), (85,))"
      ]
     },
     "execution_count": 163,
     "metadata": {},
     "output_type": "execute_result"
    }
   ],
   "source": [
    "x_test.shape,y_test.shape"
   ]
  },
  {
   "cell_type": "code",
   "execution_count": 164,
   "metadata": {},
   "outputs": [],
   "source": [
    "# reshape input to be [samples, time steps, features] which is required for LSTM\n",
    "x_train =x_train.reshape(x_train.shape[0],x_train.shape[1] , 1)\n",
    "x_test = x_test.reshape(x_test.shape[0],x_test.shape[1] , 1)"
   ]
  },
  {
   "cell_type": "code",
   "execution_count": 165,
   "metadata": {},
   "outputs": [],
   "source": [
    "model=Sequential()\n",
    "model.add(Bidirectional(LSTM(50,return_sequences=True,input_shape=(1,1))))\n",
    "model.add(Bidirectional(LSTM(25,return_sequences=True)))\n",
    "model.add(LSTM(25))\n",
    "model.add(Dense(1))\n",
    "model.compile(loss='mean_squared_error',optimizer='adam')"
   ]
  },
  {
   "cell_type": "code",
   "execution_count": 166,
   "metadata": {},
   "outputs": [
    {
     "name": "stdout",
     "output_type": "stream",
     "text": [
      "Epoch 1/100\n"
     ]
    },
    {
     "name": "stderr",
     "output_type": "stream",
     "text": [
      "2024-10-21 18:48:02.371243: I tensorflow/core/grappler/optimizers/custom_graph_optimizer_registry.cc:114] Plugin optimizer for device_type GPU is enabled.\n",
      "2024-10-21 18:48:02.721578: I tensorflow/core/grappler/optimizers/custom_graph_optimizer_registry.cc:114] Plugin optimizer for device_type GPU is enabled.\n",
      "2024-10-21 18:48:02.734551: I tensorflow/core/grappler/optimizers/custom_graph_optimizer_registry.cc:114] Plugin optimizer for device_type GPU is enabled.\n",
      "2024-10-21 18:48:02.881098: I tensorflow/core/grappler/optimizers/custom_graph_optimizer_registry.cc:114] Plugin optimizer for device_type GPU is enabled.\n",
      "2024-10-21 18:48:02.893950: I tensorflow/core/grappler/optimizers/custom_graph_optimizer_registry.cc:114] Plugin optimizer for device_type GPU is enabled.\n",
      "2024-10-21 18:48:03.036046: I tensorflow/core/grappler/optimizers/custom_graph_optimizer_registry.cc:114] Plugin optimizer for device_type GPU is enabled.\n",
      "2024-10-21 18:48:03.123577: I tensorflow/core/grappler/optimizers/custom_graph_optimizer_registry.cc:114] Plugin optimizer for device_type GPU is enabled.\n",
      "2024-10-21 18:48:03.342097: I tensorflow/core/grappler/optimizers/custom_graph_optimizer_registry.cc:114] Plugin optimizer for device_type GPU is enabled.\n",
      "2024-10-21 18:48:03.342950: I tensorflow/core/grappler/optimizers/custom_graph_optimizer_registry.cc:114] Plugin optimizer for device_type GPU is enabled.\n",
      "2024-10-21 18:48:03.483386: I tensorflow/core/grappler/optimizers/custom_graph_optimizer_registry.cc:114] Plugin optimizer for device_type GPU is enabled.\n",
      "2024-10-21 18:48:03.502859: I tensorflow/core/grappler/optimizers/custom_graph_optimizer_registry.cc:114] Plugin optimizer for device_type GPU is enabled.\n"
     ]
    },
    {
     "name": "stdout",
     "output_type": "stream",
     "text": [
      "20/20 [==============================] - ETA: 0s - loss: 0.1395"
     ]
    },
    {
     "name": "stderr",
     "output_type": "stream",
     "text": [
      "2024-10-21 18:48:04.942327: I tensorflow/core/grappler/optimizers/custom_graph_optimizer_registry.cc:114] Plugin optimizer for device_type GPU is enabled.\n",
      "2024-10-21 18:48:05.056721: I tensorflow/core/grappler/optimizers/custom_graph_optimizer_registry.cc:114] Plugin optimizer for device_type GPU is enabled.\n",
      "2024-10-21 18:48:05.065284: I tensorflow/core/grappler/optimizers/custom_graph_optimizer_registry.cc:114] Plugin optimizer for device_type GPU is enabled.\n",
      "2024-10-21 18:48:05.100057: I tensorflow/core/grappler/optimizers/custom_graph_optimizer_registry.cc:114] Plugin optimizer for device_type GPU is enabled.\n",
      "2024-10-21 18:48:05.109135: I tensorflow/core/grappler/optimizers/custom_graph_optimizer_registry.cc:114] Plugin optimizer for device_type GPU is enabled.\n",
      "2024-10-21 18:48:05.153385: I tensorflow/core/grappler/optimizers/custom_graph_optimizer_registry.cc:114] Plugin optimizer for device_type GPU is enabled.\n"
     ]
    },
    {
     "name": "stdout",
     "output_type": "stream",
     "text": [
      "20/20 [==============================] - 5s 96ms/step - loss: 0.1395 - val_loss: 0.5053\n",
      "Epoch 2/100\n",
      "20/20 [==============================] - 0s 17ms/step - loss: 0.0693 - val_loss: 0.1833\n",
      "Epoch 3/100\n",
      "20/20 [==============================] - 0s 19ms/step - loss: 0.0139 - val_loss: 0.0483\n",
      "Epoch 4/100\n",
      "20/20 [==============================] - 0s 17ms/step - loss: 0.0095 - val_loss: 0.0654\n",
      "Epoch 5/100\n",
      "20/20 [==============================] - 0s 17ms/step - loss: 0.0083 - val_loss: 0.0431\n",
      "Epoch 6/100\n",
      "20/20 [==============================] - 0s 17ms/step - loss: 0.0064 - val_loss: 0.0202\n",
      "Epoch 7/100\n",
      "20/20 [==============================] - 0s 17ms/step - loss: 0.0048 - val_loss: 0.0081\n",
      "Epoch 8/100\n",
      "20/20 [==============================] - 0s 18ms/step - loss: 0.0033 - val_loss: 0.0016\n",
      "Epoch 9/100\n",
      "20/20 [==============================] - 0s 17ms/step - loss: 0.0023 - val_loss: 0.0041\n",
      "Epoch 10/100\n",
      "20/20 [==============================] - 0s 19ms/step - loss: 0.0017 - val_loss: 0.0073\n",
      "Epoch 11/100\n",
      "20/20 [==============================] - 0s 17ms/step - loss: 0.0013 - val_loss: 0.0121\n",
      "Epoch 12/100\n",
      "20/20 [==============================] - 0s 18ms/step - loss: 0.0012 - val_loss: 0.0145\n",
      "Epoch 13/100\n",
      "20/20 [==============================] - 0s 17ms/step - loss: 0.0012 - val_loss: 0.0108\n",
      "Epoch 14/100\n",
      "20/20 [==============================] - 0s 18ms/step - loss: 0.0012 - val_loss: 0.0141\n",
      "Epoch 15/100\n",
      "20/20 [==============================] - 0s 19ms/step - loss: 0.0012 - val_loss: 0.0133\n",
      "Epoch 16/100\n",
      "20/20 [==============================] - 0s 19ms/step - loss: 0.0011 - val_loss: 0.0135\n",
      "Epoch 17/100\n",
      "20/20 [==============================] - 0s 17ms/step - loss: 0.0011 - val_loss: 0.0126\n",
      "Epoch 18/100\n",
      "20/20 [==============================] - 0s 19ms/step - loss: 0.0012 - val_loss: 0.0047\n",
      "Epoch 19/100\n",
      "20/20 [==============================] - 0s 17ms/step - loss: 0.0012 - val_loss: 0.0025\n",
      "Epoch 20/100\n",
      "20/20 [==============================] - 0s 17ms/step - loss: 0.0013 - val_loss: 0.0067\n",
      "Epoch 21/100\n",
      "20/20 [==============================] - 0s 17ms/step - loss: 0.0010 - val_loss: 0.0049\n",
      "Epoch 22/100\n",
      "20/20 [==============================] - 0s 17ms/step - loss: 0.0010 - val_loss: 0.0092\n",
      "Epoch 23/100\n",
      "20/20 [==============================] - 0s 17ms/step - loss: 0.0011 - val_loss: 0.0053\n",
      "Epoch 24/100\n",
      "20/20 [==============================] - 0s 21ms/step - loss: 0.0010 - val_loss: 0.0075\n",
      "Epoch 25/100\n",
      "20/20 [==============================] - 0s 19ms/step - loss: 0.0010 - val_loss: 0.0053\n",
      "Epoch 26/100\n",
      "20/20 [==============================] - 0s 18ms/step - loss: 0.0012 - val_loss: 0.0049\n",
      "Epoch 27/100\n",
      "20/20 [==============================] - 0s 18ms/step - loss: 9.8945e-04 - val_loss: 0.0042\n",
      "Epoch 28/100\n",
      "20/20 [==============================] - 0s 17ms/step - loss: 9.5133e-04 - val_loss: 0.0031\n",
      "Epoch 29/100\n",
      "20/20 [==============================] - 0s 17ms/step - loss: 9.6731e-04 - val_loss: 0.0038\n",
      "Epoch 30/100\n",
      "20/20 [==============================] - 0s 17ms/step - loss: 9.2303e-04 - val_loss: 0.0046\n",
      "Epoch 31/100\n",
      "20/20 [==============================] - 0s 17ms/step - loss: 9.5774e-04 - val_loss: 0.0018\n",
      "Epoch 32/100\n",
      "20/20 [==============================] - 0s 17ms/step - loss: 8.9627e-04 - val_loss: 0.0030\n",
      "Epoch 33/100\n",
      "20/20 [==============================] - 0s 19ms/step - loss: 9.2072e-04 - val_loss: 0.0025\n",
      "Epoch 34/100\n",
      "20/20 [==============================] - 0s 17ms/step - loss: 9.0792e-04 - val_loss: 0.0019\n",
      "Epoch 35/100\n",
      "20/20 [==============================] - 0s 17ms/step - loss: 9.2902e-04 - val_loss: 0.0016\n",
      "Epoch 36/100\n",
      "20/20 [==============================] - 0s 17ms/step - loss: 8.8640e-04 - val_loss: 8.7501e-04\n",
      "Epoch 37/100\n",
      "20/20 [==============================] - 0s 17ms/step - loss: 8.4896e-04 - val_loss: 0.0011\n",
      "Epoch 38/100\n",
      "20/20 [==============================] - 0s 17ms/step - loss: 9.0515e-04 - val_loss: 0.0019\n",
      "Epoch 39/100\n",
      "20/20 [==============================] - 0s 18ms/step - loss: 8.8242e-04 - val_loss: 0.0011\n",
      "Epoch 40/100\n",
      "20/20 [==============================] - 0s 17ms/step - loss: 0.0010 - val_loss: 6.1518e-04\n",
      "Epoch 41/100\n",
      "20/20 [==============================] - 0s 17ms/step - loss: 9.5762e-04 - val_loss: 7.4759e-04\n",
      "Epoch 42/100\n",
      "20/20 [==============================] - 0s 17ms/step - loss: 9.5427e-04 - val_loss: 8.9429e-04\n",
      "Epoch 43/100\n",
      "20/20 [==============================] - 0s 17ms/step - loss: 8.6624e-04 - val_loss: 8.1138e-04\n",
      "Epoch 44/100\n",
      "20/20 [==============================] - 0s 17ms/step - loss: 8.8587e-04 - val_loss: 5.7120e-04\n",
      "Epoch 45/100\n",
      "20/20 [==============================] - 0s 17ms/step - loss: 8.5424e-04 - val_loss: 5.7181e-04\n",
      "Epoch 46/100\n",
      "20/20 [==============================] - 0s 17ms/step - loss: 8.1822e-04 - val_loss: 6.7020e-04\n",
      "Epoch 47/100\n",
      "20/20 [==============================] - 0s 17ms/step - loss: 8.7629e-04 - val_loss: 6.4614e-04\n",
      "Epoch 48/100\n",
      "20/20 [==============================] - 0s 17ms/step - loss: 8.3964e-04 - val_loss: 6.0414e-04\n",
      "Epoch 49/100\n",
      "20/20 [==============================] - 0s 17ms/step - loss: 8.8281e-04 - val_loss: 6.9910e-04\n",
      "Epoch 50/100\n",
      "20/20 [==============================] - 0s 17ms/step - loss: 8.6239e-04 - val_loss: 8.6445e-04\n",
      "Epoch 51/100\n",
      "20/20 [==============================] - 0s 18ms/step - loss: 9.8949e-04 - val_loss: 0.0012\n",
      "Epoch 52/100\n",
      "20/20 [==============================] - 0s 19ms/step - loss: 8.5137e-04 - val_loss: 0.0016\n",
      "Epoch 53/100\n",
      "20/20 [==============================] - 0s 17ms/step - loss: 7.8943e-04 - val_loss: 0.0033\n",
      "Epoch 54/100\n",
      "20/20 [==============================] - 0s 17ms/step - loss: 8.4587e-04 - val_loss: 0.0021\n",
      "Epoch 55/100\n",
      "20/20 [==============================] - 0s 17ms/step - loss: 8.2221e-04 - val_loss: 0.0024\n",
      "Epoch 56/100\n",
      "20/20 [==============================] - 0s 17ms/step - loss: 7.4815e-04 - val_loss: 0.0027\n",
      "Epoch 57/100\n",
      "20/20 [==============================] - 0s 17ms/step - loss: 7.6751e-04 - val_loss: 0.0037\n",
      "Epoch 58/100\n",
      "20/20 [==============================] - 0s 17ms/step - loss: 8.6933e-04 - val_loss: 0.0026\n",
      "Epoch 59/100\n",
      "20/20 [==============================] - 0s 17ms/step - loss: 8.0336e-04 - val_loss: 0.0018\n",
      "Epoch 60/100\n",
      "20/20 [==============================] - 0s 17ms/step - loss: 8.8774e-04 - val_loss: 0.0018\n",
      "Epoch 61/100\n",
      "20/20 [==============================] - 0s 17ms/step - loss: 7.9135e-04 - val_loss: 0.0035\n",
      "Epoch 62/100\n",
      "20/20 [==============================] - 0s 18ms/step - loss: 7.6793e-04 - val_loss: 0.0029\n",
      "Epoch 63/100\n",
      "20/20 [==============================] - 0s 17ms/step - loss: 7.8778e-04 - val_loss: 0.0029\n",
      "Epoch 64/100\n",
      "20/20 [==============================] - 0s 17ms/step - loss: 8.2843e-04 - val_loss: 0.0041\n",
      "Epoch 65/100\n",
      "20/20 [==============================] - 0s 17ms/step - loss: 8.3692e-04 - val_loss: 0.0031\n",
      "Epoch 66/100\n",
      "20/20 [==============================] - 0s 17ms/step - loss: 7.7500e-04 - val_loss: 0.0036\n",
      "Epoch 67/100\n",
      "20/20 [==============================] - 0s 17ms/step - loss: 7.5433e-04 - val_loss: 0.0046\n",
      "Epoch 68/100\n",
      "20/20 [==============================] - 0s 17ms/step - loss: 7.9343e-04 - val_loss: 0.0042\n",
      "Epoch 69/100\n",
      "20/20 [==============================] - 0s 19ms/step - loss: 7.6731e-04 - val_loss: 0.0040\n",
      "Epoch 70/100\n",
      "20/20 [==============================] - 0s 17ms/step - loss: 7.6070e-04 - val_loss: 0.0051\n",
      "Epoch 71/100\n",
      "20/20 [==============================] - 0s 17ms/step - loss: 7.5528e-04 - val_loss: 0.0043\n",
      "Epoch 72/100\n",
      "20/20 [==============================] - 0s 18ms/step - loss: 7.8964e-04 - val_loss: 0.0056\n",
      "Epoch 73/100\n",
      "20/20 [==============================] - 0s 17ms/step - loss: 7.3943e-04 - val_loss: 0.0067\n",
      "Epoch 74/100\n",
      "20/20 [==============================] - 0s 17ms/step - loss: 9.2855e-04 - val_loss: 0.0077\n",
      "Epoch 75/100\n",
      "20/20 [==============================] - 0s 17ms/step - loss: 7.7330e-04 - val_loss: 0.0051\n",
      "Epoch 76/100\n",
      "20/20 [==============================] - 0s 17ms/step - loss: 7.8881e-04 - val_loss: 0.0053\n",
      "Epoch 77/100\n",
      "20/20 [==============================] - 0s 17ms/step - loss: 7.5830e-04 - val_loss: 0.0053\n",
      "Epoch 78/100\n",
      "20/20 [==============================] - 0s 17ms/step - loss: 7.2847e-04 - val_loss: 0.0078\n",
      "Epoch 79/100\n",
      "20/20 [==============================] - 0s 17ms/step - loss: 8.1223e-04 - val_loss: 0.0075\n",
      "Epoch 80/100\n",
      "20/20 [==============================] - 0s 17ms/step - loss: 8.0504e-04 - val_loss: 0.0048\n",
      "Epoch 81/100\n",
      "20/20 [==============================] - 0s 17ms/step - loss: 7.5377e-04 - val_loss: 0.0078\n",
      "Epoch 82/100\n",
      "20/20 [==============================] - 0s 17ms/step - loss: 9.1889e-04 - val_loss: 0.0056\n",
      "Epoch 83/100\n",
      "20/20 [==============================] - 0s 17ms/step - loss: 9.3438e-04 - val_loss: 0.0036\n",
      "Epoch 84/100\n",
      "20/20 [==============================] - 0s 17ms/step - loss: 7.4605e-04 - val_loss: 0.0053\n",
      "Epoch 85/100\n",
      "20/20 [==============================] - 0s 17ms/step - loss: 8.2885e-04 - val_loss: 0.0067\n",
      "Epoch 86/100\n",
      "20/20 [==============================] - 0s 19ms/step - loss: 8.3446e-04 - val_loss: 0.0082\n",
      "Epoch 87/100\n",
      "20/20 [==============================] - 0s 17ms/step - loss: 7.6951e-04 - val_loss: 0.0077\n",
      "Epoch 88/100\n",
      "20/20 [==============================] - 0s 17ms/step - loss: 7.8252e-04 - val_loss: 0.0052\n",
      "Epoch 89/100\n",
      "20/20 [==============================] - 0s 17ms/step - loss: 7.9472e-04 - val_loss: 0.0072\n",
      "Epoch 90/100\n",
      "20/20 [==============================] - 0s 17ms/step - loss: 7.4837e-04 - val_loss: 0.0058\n",
      "Epoch 91/100\n",
      "20/20 [==============================] - 0s 17ms/step - loss: 7.4563e-04 - val_loss: 0.0038\n",
      "Epoch 92/100\n",
      "20/20 [==============================] - 0s 17ms/step - loss: 9.9482e-04 - val_loss: 0.0069\n",
      "Epoch 93/100\n",
      "20/20 [==============================] - 0s 17ms/step - loss: 8.0253e-04 - val_loss: 0.0059\n",
      "Epoch 94/100\n",
      "20/20 [==============================] - 0s 17ms/step - loss: 8.0756e-04 - val_loss: 0.0080\n",
      "Epoch 95/100\n",
      "20/20 [==============================] - 0s 17ms/step - loss: 8.3735e-04 - val_loss: 0.0053\n",
      "Epoch 96/100\n",
      "20/20 [==============================] - 0s 17ms/step - loss: 7.4330e-04 - val_loss: 0.0071\n",
      "Epoch 97/100\n",
      "20/20 [==============================] - 0s 17ms/step - loss: 7.4866e-04 - val_loss: 0.0065\n",
      "Epoch 98/100\n",
      "20/20 [==============================] - 0s 17ms/step - loss: 7.4310e-04 - val_loss: 0.0066\n",
      "Epoch 99/100\n",
      "20/20 [==============================] - 0s 17ms/step - loss: 7.3967e-04 - val_loss: 0.0069\n",
      "Epoch 100/100\n",
      "20/20 [==============================] - 0s 17ms/step - loss: 7.8683e-04 - val_loss: 0.0067\n"
     ]
    },
    {
     "data": {
      "text/plain": [
       "<keras.src.callbacks.History at 0x3313b6460>"
      ]
     },
     "execution_count": 166,
     "metadata": {},
     "output_type": "execute_result"
    }
   ],
   "source": [
    "model.fit(x_train,y_train,validation_data=(x_test,y_test),epochs=100,batch_size=8,verbose=1)"
   ]
  },
  {
   "cell_type": "code",
   "execution_count": 167,
   "metadata": {},
   "outputs": [
    {
     "name": "stderr",
     "output_type": "stream",
     "text": [
      "2024-10-21 18:48:42.139181: I tensorflow/core/grappler/optimizers/custom_graph_optimizer_registry.cc:114] Plugin optimizer for device_type GPU is enabled.\n",
      "2024-10-21 18:48:42.259823: I tensorflow/core/grappler/optimizers/custom_graph_optimizer_registry.cc:114] Plugin optimizer for device_type GPU is enabled.\n",
      "2024-10-21 18:48:42.268803: I tensorflow/core/grappler/optimizers/custom_graph_optimizer_registry.cc:114] Plugin optimizer for device_type GPU is enabled.\n",
      "2024-10-21 18:48:42.320666: I tensorflow/core/grappler/optimizers/custom_graph_optimizer_registry.cc:114] Plugin optimizer for device_type GPU is enabled.\n",
      "2024-10-21 18:48:42.329726: I tensorflow/core/grappler/optimizers/custom_graph_optimizer_registry.cc:114] Plugin optimizer for device_type GPU is enabled.\n"
     ]
    },
    {
     "name": "stdout",
     "output_type": "stream",
     "text": [
      "5/5 [==============================] - 1s 19ms/step\n",
      "3/3 [==============================] - 0s 18ms/step\n"
     ]
    },
    {
     "name": "stderr",
     "output_type": "stream",
     "text": [
      "2024-10-21 18:48:42.391844: I tensorflow/core/grappler/optimizers/custom_graph_optimizer_registry.cc:114] Plugin optimizer for device_type GPU is enabled.\n"
     ]
    }
   ],
   "source": [
    "train_predict=model.predict(x_train)\n",
    "test_predict=model.predict(x_test)"
   ]
  },
  {
   "cell_type": "code",
   "execution_count": 175,
   "metadata": {},
   "outputs": [
    {
     "data": {
      "image/png": "[encoded data removed]",
      "text/plain": [
       "<Figure size 1500x800 with 1 Axes>"
      ]
     },
     "metadata": {},
     "output_type": "display_data"
    }
   ],
   "source": [
    "import matplotlib.pyplot as plt\n",
    "import numpy as np\n",
    "\n",
    "# Assuming train_predict, test_predict, train_data, and test_data are already defined\n",
    "# train_predict and test_predict are predictions after inverse_transform\n",
    "\n",
    "# Create an empty array of the same shape as the original data for plotting predictions\n",
    "predictions_plot = np.empty_like(data)\n",
    "predictions_plot[:, :] = np.nan  # Fill with NaN initially\n",
    "\n",
    "# Assign train predictions to their respective positions, considering the time step offset\n",
    "train_start_index = time_step\n",
    "train_end_index = train_start_index + len(train_predict)\n",
    "predictions_plot[train_start_index:train_end_index, :] = train_predict\n",
    "\n",
    "# Assign test predictions to their respective positions, considering the offset\n",
    "test_start_index = train_end_index + time_step\n",
    "test_end_index = test_start_index + len(test_predict)\n",
    "predictions_plot[test_start_index:test_end_index, :] = test_predict\n",
    "\n",
    "# Plotting the original data along with train and test predictions\n",
    "plt.figure(figsize=(15, 8))\n",
    "plt.plot(scaler.inverse_transform(data), label='Original Data')  # Plot the original data (inverse transformed)\n",
    "plt.plot(predictions_plot, label='Predicted Data', color='r')  # Plot the combined predictions (train and test)\n",
    "plt.xlabel('Time')\n",
    "plt.ylabel('Stock Price')\n",
    "plt.legend()\n",
    "plt.show()\n"
   ]
  },
  {
   "cell_type": "code",
   "execution_count": 168,
   "metadata": {},
   "outputs": [],
   "source": [
    "train_predict=scaler.inverse_transform(train_predict)\n",
    "test_predict=scaler.inverse_transform(test_predict)"
   ]
  },
  {
   "cell_type": "code",
   "execution_count": 169,
   "metadata": {},
   "outputs": [
    {
     "data": {
      "text/plain": [
       "147.08841959279863"
      ]
     },
     "execution_count": 169,
     "metadata": {},
     "output_type": "execute_result"
    }
   ],
   "source": [
    "import math\n",
    "from sklearn.metrics import mean_absolute_error,mean_squared_error\n",
    "math.sqrt(mean_absolute_error(y_train,train_predict))"
   ]
  },
  {
   "cell_type": "code",
   "execution_count": 170,
   "metadata": {},
   "outputs": [
    {
     "data": {
      "text/plain": [
       "24226.454255438333"
      ]
     },
     "execution_count": 170,
     "metadata": {},
     "output_type": "execute_result"
    }
   ],
   "source": [
    "math.sqrt(mean_squared_error(y_test,test_predict))"
   ]
  },
  {
   "cell_type": "code",
   "execution_count": 172,
   "metadata": {},
   "outputs": [
    {
     "data": {
      "image/png": "[encoded data removed]",
      "text/plain": [
       "<Figure size 640x480 with 1 Axes>"
      ]
     },
     "metadata": {},
     "output_type": "display_data"
    }
   ],
   "source": [
    "look_back=1\n",
    "trainPredictPlot = np.empty_like(data)\n",
    "trainPredictPlot[:, :] = np.nan\n",
    "trainPredictPlot[look_back:len(train_predict)+look_back, :] = train_predict\n",
    "# shift test predictions for plotting\n",
    "testPredictPlot = np.empty_like(data)\n",
    "testPredictPlot[:, :] = np.nan\n",
    "testPredictPlot[len(train_predict)+(look_back*2)+1:len(data)-1, :] = test_predict\n",
    "# plot baseline and predictions\n",
    "plt.plot(scaler.inverse_transform(data))\n",
    "plt.plot(trainPredictPlot)\n",
    "plt.plot(testPredictPlot)\n",
    "plt.show()"
   ]
  }
 ],
 "metadata": {
  "kernelspec": {
   "display_name": "Python 3",
   "language": "python",
   "name": "python3"
  },
  "language_info": {
   "codemirror_mode": {
    "name": "ipython",
    "version": 3
   },
   "file_extension": ".py",
   "mimetype": "text/x-python",
   "name": "python",
   "nbconvert_exporter": "python",
   "pygments_lexer": "ipython3",
   "version": "3.8.20"
  }
 },
 "nbformat": 4,
 "nbformat_minor": 2
}
